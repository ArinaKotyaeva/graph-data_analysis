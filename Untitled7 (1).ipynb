{
  "nbformat": 4,
  "nbformat_minor": 0,
  "metadata": {
    "colab": {
      "provenance": []
    },
    "kernelspec": {
      "name": "python3",
      "display_name": "Python 3"
    },
    "language_info": {
      "name": "python"
    }
  },
  "cells": [
    {
      "cell_type": "markdown",
      "source": [
        "Вам дан неориентированный граф, представленный в виде матрицы смежности размером\n",
        "N\n",
        "×\n",
        "N\n",
        "N×N, где\n",
        "N\n",
        "N — количество вершин в графе. Вершины пронумерованы от\n",
        "0\n",
        "0 до\n",
        "N\n",
        "−\n",
        "1\n",
        "N−1.\n",
        "\n",
        "Ваша задача — вывести индексы вершин, на которых есть петли (то есть ребра, соединяющие вершину саму с собой)."
      ],
      "metadata": {
        "id": "JLj4nysA4HP0"
      }
    },
    {
      "cell_type": "code",
      "source": [
        "matrix = []\n",
        "while True:\n",
        "    try:\n",
        "        row = list(map(int, input().split()))\n",
        "        matrix.append(row)\n",
        "    except EOFError:\n",
        "        break\n",
        "\n",
        "N = len(matrix)\n",
        "\n",
        "count = []\n",
        "\n",
        "for i in range(N):\n",
        "    if matrix[i][i] != 0:\n",
        "        count.append(i)\n",
        "\n",
        "if not count:\n",
        "    print(\"NO LOOPS\")\n",
        "else:\n",
        "    for i in count:\n",
        "        print(i)"
      ],
      "metadata": {
        "id": "G-eNawet4LW9"
      },
      "execution_count": null,
      "outputs": []
    },
    {
      "cell_type": "markdown",
      "source": [
        "Дан ориентированный граф, заданный матрицей смежности размером\n",
        "N\n",
        "×\n",
        "N\n",
        "N×N.\n",
        "\n",
        "Ваша задача — преобразовать этот граф в список смежности."
      ],
      "metadata": {
        "id": "zgvqghnU4exk"
      }
    },
    {
      "cell_type": "code",
      "source": [
        "matrix = []\n",
        "while True:\n",
        "    try:\n",
        "        row = list(map(int, input().split()))\n",
        "        matrix.append(row)\n",
        "    except EOFError:\n",
        "        break\n",
        "\n",
        "N = len(matrix)\n",
        "adj_list = [[] for _ in range(N)]\n",
        "\n",
        "for i in range(N):\n",
        "    for j in range(N):\n",
        "        if matrix[i][j] != 0:\n",
        "            adj_list[i].append(j)\n",
        "\n",
        "for neighbors in adj_list:\n",
        "    print(' '.join(map(str, neighbors)) if neighbors else '')"
      ],
      "metadata": {
        "id": "ZGyI0KzH4kZh"
      },
      "execution_count": null,
      "outputs": []
    },
    {
      "cell_type": "markdown",
      "source": [
        "Дан ориентированный граф, представленный в виде списка смежности.\n",
        "\n",
        "Ваша задача — преобразовать этот граф в матрицу смежности."
      ],
      "metadata": {
        "id": "artvDORg4ooV"
      }
    },
    {
      "cell_type": "code",
      "source": [
        "N = int(input())\n",
        "adjacency_list = []\n",
        "for _ in range(N):\n",
        "    line = input().strip()\n",
        "    if line:\n",
        "        neighbors = list(map(int, line.split()))\n",
        "    else:\n",
        "        neighbors = []\n",
        "    adjacency_list.append(neighbors)\n",
        "\n",
        "matrix = [[0] * N for _ in range(N)]\n",
        "\n",
        "for i in range(N):\n",
        "    for j in adjacency_list[i]:\n",
        "        matrix[i][j] = 1\n",
        "\n",
        "for row in matrix:\n",
        "    print(' '.join(map(str, row)))"
      ],
      "metadata": {
        "id": "Ga4Z8DY74sJr"
      },
      "execution_count": null,
      "outputs": []
    },
    {
      "cell_type": "markdown",
      "source": [
        "Дан неориентированный невзвешенный граф, представленный матрицей смежности размером\n",
        "N\n",
        "×\n",
        "N\n",
        "N×N. Также заданы индексы двух различных вершин\n",
        "S\n",
        "S и\n",
        "T\n",
        "T. Требуется найти длину кратчайшего пути между вершинами\n",
        "S\n",
        "S и\n",
        "T\n",
        "T."
      ],
      "metadata": {
        "id": "SRimAyG_4zF_"
      }
    },
    {
      "cell_type": "code",
      "source": [
        "from collections import deque\n",
        "\n",
        "def bfs_shortest_path(adj_matrix, start, end):\n",
        "    n = len(adj_matrix)\n",
        "    distances = [float('inf')] * n\n",
        "    distances[start] = 0\n",
        "    queue = deque([start])\n",
        "\n",
        "    while queue:\n",
        "        current = queue.popleft()\n",
        "\n",
        "        for neighbor in range(n):\n",
        "            if adj_matrix[current][neighbor] == 1 and distances[neighbor] == float('inf'):\n",
        "                distances[neighbor] = distances[current] + 1\n",
        "                queue.append(neighbor)\n",
        "\n",
        "                if neighbor == end:\n",
        "                    return distances[neighbor]\n",
        "\n",
        "    return -1 if distances[end] == float('inf') else distances[end]\n",
        "\n",
        "\n",
        "N = int(input())\n",
        "adj_matrix = [list(map(int, input().split())) for _ in range(N)]\n",
        "S, T = map(int, input().split())\n",
        "\n",
        "result = bfs_shortest_path(adj_matrix, S, T)\n",
        "print(result)"
      ],
      "metadata": {
        "id": "xPfoUY9Z42J0"
      },
      "execution_count": null,
      "outputs": []
    },
    {
      "cell_type": "markdown",
      "source": [
        "Вам задано целое число\n",
        "N\n",
        "N, которое представляет количество вершин в полном неориентированном графе. Полный граф — это граф, в котором каждая пара различных вершин соединена одним ребром. Ваша задача — вычислить количество рёбер в этом графе."
      ],
      "metadata": {
        "id": "yu-P-s1J7jDw"
      }
    },
    {
      "cell_type": "code",
      "source": [
        "N = int(input())\n",
        "print(N * (N - 1) // 2)"
      ],
      "metadata": {
        "id": "SuIy3Rt27lxQ"
      },
      "execution_count": null,
      "outputs": []
    },
    {
      "cell_type": "markdown",
      "source": [
        "Проверка полного двудольного графа пользователей и фильмов\n",
        "У вас есть список пользователей и список фильмов, которые они смотрели. Постройте двудольный граф, где одна доля — пользователи, другая доля — фильмы, а рёбра между ними означают, что пользователь посмотрел фильм.\n",
        "\n",
        "Необходимо определить, является ли этот двудольный граф полным двудольным графом."
      ],
      "metadata": {
        "id": "6EHid4mn7ouS"
      }
    },
    {
      "cell_type": "code",
      "source": [
        "users = input().split()\n",
        "movies = input().split()\n",
        "\n",
        "all_movies = set(movies)\n",
        "\n",
        "user_to_movies = {}\n",
        "\n",
        "for _ in range(len(users)):\n",
        "    parts = input().split()\n",
        "    user = parts[0]\n",
        "    k = int(parts[1])\n",
        "    watched_movies = set(parts[2:2 + k])\n",
        "    user_to_movies[user] = watched_movies\n",
        "\n",
        "is_complete = True\n",
        "for user in users:\n",
        "    if user_to_movies[user] != all_movies:\n",
        "        is_complete = False\n",
        "        break\n",
        "\n",
        "print(\"YES\" if is_complete else \"NO\")"
      ],
      "metadata": {
        "id": "V2rduneZ7s2s"
      },
      "execution_count": null,
      "outputs": []
    },
    {
      "cell_type": "markdown",
      "source": [
        "Вам задан неориентированный граф в виде матрицы смежности размером\n",
        "N\n",
        "×\n",
        "N\n",
        "N×N, который является деревом.\n",
        "\n",
        "Ваша задача — вывести индексы вершин, которые являются листьями в данном дереве."
      ],
      "metadata": {
        "id": "7oq9irtK7xxI"
      }
    },
    {
      "cell_type": "code",
      "source": [
        "n = int(input())\n",
        "matrix = []\n",
        "for _ in range(n):\n",
        "    row = list(map(int, input().split()))\n",
        "    matrix.append(row)\n",
        "\n",
        "leaves = []\n",
        "for i in range(n):\n",
        "    degree = sum(matrix[i])\n",
        "    if degree == 1:\n",
        "        leaves.append(i)\n",
        "\n",
        "if not leaves:\n",
        "    print(\"NO LEAVES\")\n",
        "else:\n",
        "    for leaf in sorted(leaves):\n",
        "        print(leaf)"
      ],
      "metadata": {
        "id": "3VRNtwDT76VQ"
      },
      "execution_count": null,
      "outputs": []
    },
    {
      "cell_type": "markdown",
      "source": [
        "Вам задан неориентированный граф в виде матрицы смежности размером\n",
        "N\n",
        "×\n",
        "N\n",
        "N×N, который является деревом. Также заданы индексы двух вершин: корневой вершины\n",
        "R\n",
        "R и заданной вершины\n",
        "V\n",
        "V. Требуется найти кратчайший путь от вершины\n",
        "R\n",
        "R до вершины\n",
        "V\n",
        "V."
      ],
      "metadata": {
        "id": "hhDZPFsY798_"
      }
    },
    {
      "cell_type": "code",
      "source": [
        "from collections import deque\n",
        "\n",
        "def find_shortest_path(n, matrix, start, end):\n",
        "    adj = [[] for _ in range(n)]\n",
        "    for i in range(n):\n",
        "        for j in range(i+1, n):\n",
        "            if matrix[i][j] == 1:\n",
        "                adj[i].append(j)\n",
        "                adj[j].append(i)\n",
        "\n",
        "    parent = [-1] * n\n",
        "    visited = [False] * n\n",
        "    q = deque()\n",
        "    q.append(start)\n",
        "    visited[start] = True\n",
        "\n",
        "    while q:\n",
        "        current = q.popleft()\n",
        "        if current == end:\n",
        "            break\n",
        "\n",
        "        for neighbor in adj[current]:\n",
        "            if not visited[neighbor]:\n",
        "                visited[neighbor] = True\n",
        "                parent[neighbor] = current\n",
        "                q.append(neighbor)\n",
        "\n",
        "    if parent[end] == -1 and start != end:\n",
        "        return None\n",
        "\n",
        "    path = []\n",
        "    current = end\n",
        "    while current != -1:\n",
        "        path.append(current)\n",
        "        current = parent[current]\n",
        "\n",
        "    return path[::-1]\n",
        "\n",
        "n = int(input())\n",
        "matrix = []\n",
        "for _ in range(n):\n",
        "    row = list(map(int, input().split()))\n",
        "    matrix.append(row)\n",
        "r, v = map(int, input().split())\n",
        "\n",
        "path = find_shortest_path(n, matrix, r, v)\n",
        "\n",
        "if path:\n",
        "    print(' '.join(map(str, path)))\n",
        "else:\n",
        "    print(\"NO PATH\")"
      ],
      "metadata": {
        "id": "V99JDA2Z8BfF"
      },
      "execution_count": null,
      "outputs": []
    },
    {
      "cell_type": "markdown",
      "source": [
        "Вам дан неориентированный граф, заданный списком вершин и списком рёбер. Необходимо проверить, выполняется ли для этого графа теорема о висячих вершинах: в дереве с более чем одной вершиной существует хотя бы одна висячая вершина (вершина степени 1)."
      ],
      "metadata": {
        "id": "UMRIwSti8FK_"
      }
    },
    {
      "cell_type": "code",
      "source": [
        "import sys\n",
        "from collections import deque\n",
        "\n",
        "def solve():\n",
        "    N = int(sys.stdin.readline())\n",
        "    vertices = sys.stdin.readline().split()\n",
        "    M = int(sys.stdin.readline())\n",
        "    edges = [sys.stdin.readline().split() for _ in range(M)]\n",
        "\n",
        "    adj = {v: [] for v in vertices}\n",
        "    for u, v in edges:\n",
        "        adj[u].append(v)\n",
        "        adj[v].append(u)\n",
        "\n",
        "    visited = set()\n",
        "    queue = deque()\n",
        "    start_vertex = vertices[0]\n",
        "    queue.append(start_vertex)\n",
        "    visited.add(start_vertex)\n",
        "\n",
        "    while queue:\n",
        "        current = queue.popleft()\n",
        "        for neighbor in adj[current]:\n",
        "            if neighbor not in visited:\n",
        "                visited.add(neighbor)\n",
        "                queue.append(neighbor)\n",
        "\n",
        "    if len(visited) != N:\n",
        "        print(\"NO\")\n",
        "        return\n",
        "\n",
        "    has_hanging = any(len(adj[v]) == 1 for v in vertices)\n",
        "    print(\"YES\" if has_hanging else \"NO\")\n",
        "\n",
        "solve()"
      ],
      "metadata": {
        "id": "hnt1Bbyn8I9i"
      },
      "execution_count": null,
      "outputs": []
    }
  ]
}