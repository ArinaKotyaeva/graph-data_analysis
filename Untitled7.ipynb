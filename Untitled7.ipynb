{
  "nbformat": 4,
  "nbformat_minor": 0,
  "metadata": {
    "colab": {
      "provenance": []
    },
    "kernelspec": {
      "name": "python3",
      "display_name": "Python 3"
    },
    "language_info": {
      "name": "python"
    }
  },
  "cells": [
    {
      "cell_type": "markdown",
      "source": [
        "Вам дан неориентированный граф, представленный в виде матрицы смежности размером\n",
        "N\n",
        "×\n",
        "N\n",
        "N×N, где\n",
        "N\n",
        "N — количество вершин в графе. Вершины пронумерованы от\n",
        "0\n",
        "0 до\n",
        "N\n",
        "−\n",
        "1\n",
        "N−1.\n",
        "\n",
        "Ваша задача — вывести индексы вершин, на которых есть петли (то есть ребра, соединяющие вершину саму с собой)."
      ],
      "metadata": {
        "id": "JLj4nysA4HP0"
      }
    },
    {
      "cell_type": "code",
      "source": [
        "matrix = []\n",
        "while True:\n",
        "    try:\n",
        "        row = list(map(int, input().split()))\n",
        "        matrix.append(row)\n",
        "    except EOFError:\n",
        "        break\n",
        "\n",
        "N = len(matrix)\n",
        "\n",
        "count = []\n",
        "\n",
        "for i in range(N):\n",
        "    if matrix[i][i] != 0:\n",
        "        count.append(i)\n",
        "\n",
        "if not count:\n",
        "    print(\"NO LOOPS\")\n",
        "else:\n",
        "    for i in count:\n",
        "        print(i)"
      ],
      "metadata": {
        "id": "G-eNawet4LW9"
      },
      "execution_count": null,
      "outputs": []
    },
    {
      "cell_type": "markdown",
      "source": [
        "Дан ориентированный граф, заданный матрицей смежности размером\n",
        "N\n",
        "×\n",
        "N\n",
        "N×N.\n",
        "\n",
        "Ваша задача — преобразовать этот граф в список смежности."
      ],
      "metadata": {
        "id": "zgvqghnU4exk"
      }
    },
    {
      "cell_type": "code",
      "source": [
        "matrix = []\n",
        "while True:\n",
        "    try:\n",
        "        row = list(map(int, input().split()))\n",
        "        matrix.append(row)\n",
        "    except EOFError:\n",
        "        break\n",
        "\n",
        "N = len(matrix)\n",
        "adj_list = [[] for _ in range(N)]\n",
        "\n",
        "for i in range(N):\n",
        "    for j in range(N):\n",
        "        if matrix[i][j] != 0:\n",
        "            adj_list[i].append(j)\n",
        "\n",
        "for neighbors in adj_list:\n",
        "    print(' '.join(map(str, neighbors)) if neighbors else '')"
      ],
      "metadata": {
        "id": "ZGyI0KzH4kZh"
      },
      "execution_count": null,
      "outputs": []
    },
    {
      "cell_type": "markdown",
      "source": [
        "Дан ориентированный граф, представленный в виде списка смежности.\n",
        "\n",
        "Ваша задача — преобразовать этот граф в матрицу смежности."
      ],
      "metadata": {
        "id": "artvDORg4ooV"
      }
    },
    {
      "cell_type": "code",
      "source": [
        "N = int(input())\n",
        "adjacency_list = []\n",
        "for _ in range(N):\n",
        "    line = input().strip()\n",
        "    if line:\n",
        "        neighbors = list(map(int, line.split()))\n",
        "    else:\n",
        "        neighbors = []\n",
        "    adjacency_list.append(neighbors)\n",
        "\n",
        "matrix = [[0] * N for _ in range(N)]\n",
        "\n",
        "for i in range(N):\n",
        "    for j in adjacency_list[i]:\n",
        "        matrix[i][j] = 1\n",
        "\n",
        "for row in matrix:\n",
        "    print(' '.join(map(str, row)))"
      ],
      "metadata": {
        "id": "Ga4Z8DY74sJr"
      },
      "execution_count": null,
      "outputs": []
    },
    {
      "cell_type": "markdown",
      "source": [
        "Дан неориентированный невзвешенный граф, представленный матрицей смежности размером\n",
        "N\n",
        "×\n",
        "N\n",
        "N×N. Также заданы индексы двух различных вершин\n",
        "S\n",
        "S и\n",
        "T\n",
        "T. Требуется найти длину кратчайшего пути между вершинами\n",
        "S\n",
        "S и\n",
        "T\n",
        "T."
      ],
      "metadata": {
        "id": "SRimAyG_4zF_"
      }
    },
    {
      "cell_type": "code",
      "source": [
        "from collections import deque\n",
        "\n",
        "def bfs_shortest_path(adj_matrix, start, end):\n",
        "    n = len(adj_matrix)\n",
        "    distances = [float('inf')] * n\n",
        "    distances[start] = 0\n",
        "    queue = deque([start])\n",
        "\n",
        "    while queue:\n",
        "        current = queue.popleft()\n",
        "\n",
        "        for neighbor in range(n):\n",
        "            if adj_matrix[current][neighbor] == 1 and distances[neighbor] == float('inf'):\n",
        "                distances[neighbor] = distances[current] + 1\n",
        "                queue.append(neighbor)\n",
        "\n",
        "                if neighbor == end:\n",
        "                    return distances[neighbor]\n",
        "\n",
        "    return -1 if distances[end] == float('inf') else distances[end]\n",
        "\n",
        "\n",
        "N = int(input())\n",
        "adj_matrix = [list(map(int, input().split())) for _ in range(N)]\n",
        "S, T = map(int, input().split())\n",
        "\n",
        "result = bfs_shortest_path(adj_matrix, S, T)\n",
        "print(result)"
      ],
      "metadata": {
        "id": "xPfoUY9Z42J0"
      },
      "execution_count": null,
      "outputs": []
    }
  ]
}